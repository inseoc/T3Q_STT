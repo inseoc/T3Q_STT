{
 "cells": [
  {
   "cell_type": "markdown",
   "id": "38dcce04-905f-4222-bda3-5423b462073c",
   "metadata": {},
   "source": [
    "# Transformer 구현"
   ]
  },
  {
   "cell_type": "markdown",
   "id": "0b004bbd-8e0c-4cba-ad64-10bf8602c080",
   "metadata": {
    "tags": []
   },
   "source": [
    "## Google SentencePiece 활용하여 Vocab 생성\n",
    "1. character 단위로 Vocab 생성(자음-모음 단위 or 음절 단위)\n",
    "생성 가능한 모든 글자를 전부 vocab으로 표현이 가능\n",
    "하지만 각 단어의 고유한 의미를 표현하고 있는 것은 아니므로 좋은 성능 못낼 우려\n",
    "\n",
    "2. space 단위로 Vocab 생성\n",
    "한국어는 조사, 어미 등으로 인한 중복단어가 발생할 우려\n",
    "책이, 책을, 책에 등과 같이 모든 경우의 수를 vocab으로 만들면 매우 커지게 되고 빈도수가 낮은 단어는 학습에 불리\n",
    "그렇다고 일정 빈도 수를 설정해 놓으면 UNK 가 등장할 수도\n",
    "\n",
    "3. 단어의 빈도 수를 계산해 subword 단위로 Vocab 생성\n",
    "기계는 모든 단어를 학습할 수 없으므로 모르는 단어로 인해 문제를 푸는 데 이슈가 생기면 이를 'OOV(Out Of Vocabulary)' 문제라 함\n",
    "이를 방지하기 위해 하나의 단어를 여러 subword 단위로 분리하여 단어를 인코딩, 임베딩 수행\n",
    "이를 '서브워드 분리(subword segmenation)'라 하며 subword 단위로 나누는 토크나이저를 서브워드 토크나이저라 함\n",
    "OOV를 해결하기 위해 대표 알고리즘인 'BPE(Byte Pair Encoding)'를 사용\n",
    "\n",
    "Google이 제공하는 툴 중 sentencepiece를 활용함으로써 많은 vocab과 UNK 토큰에 대응"
   ]
  },
  {
   "cell_type": "markdown",
   "id": "c8e9c25c-e9dd-4303-bdfc-e762e0cbc797",
   "metadata": {
    "jp-MarkdownHeadingCollapsed": true,
    "tags": []
   },
   "source": [
    "### BPE 실습"
   ]
  },
  {
   "cell_type": "code",
   "execution_count": 1,
   "id": "8edef6e3-987e-4fcd-97bc-c8f490133ea8",
   "metadata": {},
   "outputs": [],
   "source": [
    "import re, collections\n",
    "from IPython.display import display, Markdown, Latex"
   ]
  },
  {
   "cell_type": "code",
   "execution_count": 2,
   "id": "8ecac557-7cb6-49c9-a5d4-60d43f877b43",
   "metadata": {},
   "outputs": [],
   "source": [
    "# BPE를 몇 회 수행할 지 설정\n",
    "num_merges = 10"
   ]
  },
  {
   "cell_type": "code",
   "execution_count": 4,
   "id": "99622db1-45e1-4c19-a077-9083c57180b5",
   "metadata": {},
   "outputs": [],
   "source": [
    "# BPE에 사용할 단어가 있을 때, BPE의 입력으로 사용하는 실제 단어 집합은 다음과 같다.\n",
    "# '</w>'는 단어 맨 끝에 붙이는 특수 문자이며 각 단어는 글자(character) 단위로 분리한다.\n",
    "dictionary = {\n",
    "              'l o w </w>' : 5,\n",
    "              'l o w e r </w>' : 2,\n",
    "              'n e w e s t </w>':6,\n",
    "              'w i d e s t </w>':3\n",
    "             }"
   ]
  },
  {
   "cell_type": "code",
   "execution_count": 5,
   "id": "3592b2b2-691a-4db3-bf14-ed89b9b764c7",
   "metadata": {},
   "outputs": [
    {
     "data": {
      "text/plain": [
       "defaultdict(int, {})"
      ]
     },
     "execution_count": 5,
     "metadata": {},
     "output_type": "execute_result"
    }
   ],
   "source": [
    "pairs = collections.defaultdict(int)\n",
    "pairs"
   ]
  },
  {
   "cell_type": "code",
   "execution_count": 6,
   "id": "68c864c5-cbd1-4496-8074-3d065c2fec11",
   "metadata": {
    "scrolled": true,
    "tags": []
   },
   "outputs": [
    {
     "data": {
      "text/markdown": [
       "### Iteration 1"
      ],
      "text/plain": [
       "<IPython.core.display.Markdown object>"
      ]
     },
     "metadata": {},
     "output_type": "display_data"
    },
    {
     "name": "stdout",
     "output_type": "stream",
     "text": [
      "현재 pair들의 빈도수:  {('l', 'o'): 7, ('o', 'w'): 7, ('w', '</w>'): 5, ('w', 'e'): 8, ('e', 'r'): 2, ('r', '</w>'): 2, ('n', 'e'): 6, ('e', 'w'): 6, ('e', 's'): 9, ('s', 't'): 9, ('t', '</w>'): 9, ('w', 'i'): 3, ('i', 'd'): 3, ('d', 'e'): 3}\n",
      "new merge: ('e', 's')\n",
      "dictionary: {'l o w </w>': 5, 'l o w e r </w>': 2, 'n e w es t </w>': 6, 'w i d es t </w>': 3}\n"
     ]
    },
    {
     "data": {
      "text/markdown": [
       "### Iteration 2"
      ],
      "text/plain": [
       "<IPython.core.display.Markdown object>"
      ]
     },
     "metadata": {},
     "output_type": "display_data"
    },
    {
     "name": "stdout",
     "output_type": "stream",
     "text": [
      "현재 pair들의 빈도수:  {('l', 'o'): 7, ('o', 'w'): 7, ('w', '</w>'): 5, ('w', 'e'): 2, ('e', 'r'): 2, ('r', '</w>'): 2, ('n', 'e'): 6, ('e', 'w'): 6, ('w', 'es'): 6, ('es', 't'): 9, ('t', '</w>'): 9, ('w', 'i'): 3, ('i', 'd'): 3, ('d', 'es'): 3}\n",
      "new merge: ('es', 't')\n",
      "dictionary: {'l o w </w>': 5, 'l o w e r </w>': 2, 'n e w est </w>': 6, 'w i d est </w>': 3}\n"
     ]
    },
    {
     "data": {
      "text/markdown": [
       "### Iteration 3"
      ],
      "text/plain": [
       "<IPython.core.display.Markdown object>"
      ]
     },
     "metadata": {},
     "output_type": "display_data"
    },
    {
     "name": "stdout",
     "output_type": "stream",
     "text": [
      "현재 pair들의 빈도수:  {('l', 'o'): 7, ('o', 'w'): 7, ('w', '</w>'): 5, ('w', 'e'): 2, ('e', 'r'): 2, ('r', '</w>'): 2, ('n', 'e'): 6, ('e', 'w'): 6, ('w', 'est'): 6, ('est', '</w>'): 9, ('w', 'i'): 3, ('i', 'd'): 3, ('d', 'est'): 3}\n",
      "new merge: ('est', '</w>')\n",
      "dictionary: {'l o w </w>': 5, 'l o w e r </w>': 2, 'n e w est</w>': 6, 'w i d est</w>': 3}\n"
     ]
    },
    {
     "data": {
      "text/markdown": [
       "### Iteration 4"
      ],
      "text/plain": [
       "<IPython.core.display.Markdown object>"
      ]
     },
     "metadata": {},
     "output_type": "display_data"
    },
    {
     "name": "stdout",
     "output_type": "stream",
     "text": [
      "현재 pair들의 빈도수:  {('l', 'o'): 7, ('o', 'w'): 7, ('w', '</w>'): 5, ('w', 'e'): 2, ('e', 'r'): 2, ('r', '</w>'): 2, ('n', 'e'): 6, ('e', 'w'): 6, ('w', 'est</w>'): 6, ('w', 'i'): 3, ('i', 'd'): 3, ('d', 'est</w>'): 3}\n",
      "new merge: ('l', 'o')\n",
      "dictionary: {'lo w </w>': 5, 'lo w e r </w>': 2, 'n e w est</w>': 6, 'w i d est</w>': 3}\n"
     ]
    },
    {
     "data": {
      "text/markdown": [
       "### Iteration 5"
      ],
      "text/plain": [
       "<IPython.core.display.Markdown object>"
      ]
     },
     "metadata": {},
     "output_type": "display_data"
    },
    {
     "name": "stdout",
     "output_type": "stream",
     "text": [
      "현재 pair들의 빈도수:  {('lo', 'w'): 7, ('w', '</w>'): 5, ('w', 'e'): 2, ('e', 'r'): 2, ('r', '</w>'): 2, ('n', 'e'): 6, ('e', 'w'): 6, ('w', 'est</w>'): 6, ('w', 'i'): 3, ('i', 'd'): 3, ('d', 'est</w>'): 3}\n",
      "new merge: ('lo', 'w')\n",
      "dictionary: {'low </w>': 5, 'low e r </w>': 2, 'n e w est</w>': 6, 'w i d est</w>': 3}\n"
     ]
    },
    {
     "data": {
      "text/markdown": [
       "### Iteration 6"
      ],
      "text/plain": [
       "<IPython.core.display.Markdown object>"
      ]
     },
     "metadata": {},
     "output_type": "display_data"
    },
    {
     "name": "stdout",
     "output_type": "stream",
     "text": [
      "현재 pair들의 빈도수:  {('low', '</w>'): 5, ('low', 'e'): 2, ('e', 'r'): 2, ('r', '</w>'): 2, ('n', 'e'): 6, ('e', 'w'): 6, ('w', 'est</w>'): 6, ('w', 'i'): 3, ('i', 'd'): 3, ('d', 'est</w>'): 3}\n",
      "new merge: ('n', 'e')\n",
      "dictionary: {'low </w>': 5, 'low e r </w>': 2, 'ne w est</w>': 6, 'w i d est</w>': 3}\n"
     ]
    },
    {
     "data": {
      "text/markdown": [
       "### Iteration 7"
      ],
      "text/plain": [
       "<IPython.core.display.Markdown object>"
      ]
     },
     "metadata": {},
     "output_type": "display_data"
    },
    {
     "name": "stdout",
     "output_type": "stream",
     "text": [
      "현재 pair들의 빈도수:  {('low', '</w>'): 5, ('low', 'e'): 2, ('e', 'r'): 2, ('r', '</w>'): 2, ('ne', 'w'): 6, ('w', 'est</w>'): 6, ('w', 'i'): 3, ('i', 'd'): 3, ('d', 'est</w>'): 3}\n",
      "new merge: ('ne', 'w')\n",
      "dictionary: {'low </w>': 5, 'low e r </w>': 2, 'new est</w>': 6, 'w i d est</w>': 3}\n"
     ]
    },
    {
     "data": {
      "text/markdown": [
       "### Iteration 8"
      ],
      "text/plain": [
       "<IPython.core.display.Markdown object>"
      ]
     },
     "metadata": {},
     "output_type": "display_data"
    },
    {
     "name": "stdout",
     "output_type": "stream",
     "text": [
      "현재 pair들의 빈도수:  {('low', '</w>'): 5, ('low', 'e'): 2, ('e', 'r'): 2, ('r', '</w>'): 2, ('new', 'est</w>'): 6, ('w', 'i'): 3, ('i', 'd'): 3, ('d', 'est</w>'): 3}\n",
      "new merge: ('new', 'est</w>')\n",
      "dictionary: {'low </w>': 5, 'low e r </w>': 2, 'newest</w>': 6, 'w i d est</w>': 3}\n"
     ]
    },
    {
     "data": {
      "text/markdown": [
       "### Iteration 9"
      ],
      "text/plain": [
       "<IPython.core.display.Markdown object>"
      ]
     },
     "metadata": {},
     "output_type": "display_data"
    },
    {
     "name": "stdout",
     "output_type": "stream",
     "text": [
      "현재 pair들의 빈도수:  {('low', '</w>'): 5, ('low', 'e'): 2, ('e', 'r'): 2, ('r', '</w>'): 2, ('w', 'i'): 3, ('i', 'd'): 3, ('d', 'est</w>'): 3}\n",
      "new merge: ('low', '</w>')\n",
      "dictionary: {'low</w>': 5, 'low e r </w>': 2, 'newest</w>': 6, 'w i d est</w>': 3}\n"
     ]
    },
    {
     "data": {
      "text/markdown": [
       "### Iteration 10"
      ],
      "text/plain": [
       "<IPython.core.display.Markdown object>"
      ]
     },
     "metadata": {},
     "output_type": "display_data"
    },
    {
     "name": "stdout",
     "output_type": "stream",
     "text": [
      "현재 pair들의 빈도수:  {('low', 'e'): 2, ('e', 'r'): 2, ('r', '</w>'): 2, ('w', 'i'): 3, ('i', 'd'): 3, ('d', 'est</w>'): 3}\n",
      "new merge: ('w', 'i')\n",
      "dictionary: {'low</w>': 5, 'low e r </w>': 2, 'newest</w>': 6, 'wi d est</w>': 3}\n"
     ]
    }
   ],
   "source": [
    "# 가장 빈도수가 높은 uni-gram의 쌍을 하나의 uni-gram으로 통합하는 과정으로, num_merges 반복한다.\n",
    "def get_stats(dictionary: dict) -> dict:\n",
    "    # 유니그램의 pair들의 빈도수를 카운트\n",
    "    pairs = collections.defaultdict(int)  # >>> pairs = defaultdict(int, {})\n",
    "    for word, freq in dictionary.items():\n",
    "        symbols = word.split()\n",
    "        for i in range(len(symbols)-1):\n",
    "            pairs[symbols[i], symbols[i+1]] += freq\n",
    "    print('현재 pair들의 빈도수: ', dict(pairs))\n",
    "    \n",
    "    return pairs\n",
    "\n",
    "\n",
    "def merge_dictionary(pair: dict, v_in):\n",
    "    v_out = {}\n",
    "    bigram = re.escape(' '.join(pair))  # re.escape(str) : 영숫자가 아닌 모든 문자가 백 슬래시 인('\\') 문자열을 반환\n",
    "    p = re.compile(r'(?<!\\S)' + bigram + r'(?!\\S)')\n",
    "    for word in v_in:\n",
    "        w_out = p.sub(''.join(pair), word)\n",
    "        v_out[w_out] = v_in[word]\n",
    "    \n",
    "    return v_out\n",
    "\n",
    "\n",
    "bpe_codes = {}\n",
    "bpe_codes_reverse = {}\n",
    "\n",
    "for i in range(num_merges):\n",
    "    display(Markdown(\"### Iteration {}\".format(i+1)))\n",
    "    pairs = get_stats(dictionary)\n",
    "    best = max(pairs, key=pairs.get)\n",
    "    dictionary = merge_dictionary(best, dictionary)\n",
    "    \n",
    "    bpe_codes[best] = i\n",
    "    bpe_codes_reverse[best[0] + best[1]] = best\n",
    "    \n",
    "    print(\"new merge: {}\".format(best))\n",
    "    print(\"dictionary: {}\".format(dictionary))"
   ]
  },
  {
   "cell_type": "code",
   "execution_count": 7,
   "id": "a2275882-d9c6-484a-82a4-c08ac40bcdfc",
   "metadata": {},
   "outputs": [
    {
     "name": "stdout",
     "output_type": "stream",
     "text": [
      "{('e', 's'): 0, ('es', 't'): 1, ('est', '</w>'): 2, ('l', 'o'): 3, ('lo', 'w'): 4, ('n', 'e'): 5, ('ne', 'w'): 6, ('new', 'est</w>'): 7, ('low', '</w>'): 8, ('w', 'i'): 9}\n"
     ]
    }
   ],
   "source": [
    "'''\n",
    "e와 s의 쌍은 초기 단어 집합에서 총 9회 등장\n",
    "그러므로 es로 통합\n",
    "그 다음으로는 es와 t의 쌍, est와 </w>의 쌍을 통합\n",
    "빈도수가 가장 높은 순서대로 위 과정을 num_merges 반복했음\n",
    "'''\n",
    "print(bpe_codes)"
   ]
  },
  {
   "cell_type": "markdown",
   "id": "8abf73b4-6bec-4543-baa9-f33628c78fd6",
   "metadata": {
    "jp-MarkdownHeadingCollapsed": true,
    "tags": []
   },
   "source": [
    "### OOV에 대처"
   ]
  },
  {
   "cell_type": "code",
   "execution_count": 13,
   "id": "babb8eb2-750a-4da6-8823-504843ac4b16",
   "metadata": {},
   "outputs": [],
   "source": [
    "def get_pairs(word):\n",
    "    pairs = set()\n",
    "    prev_char = word[0]\n",
    "    for char in word[1:]:\n",
    "        pairs.add((prev_char, char))\n",
    "        prev_char = char  # word = '최인서' 일 때, pairs = {('최','인')('인','서')}\n",
    "    \n",
    "    return pairs\n",
    "\n",
    "\n",
    "def encode(orig):\n",
    "    word = tuple(orig) + ('</w>',)  # tuple 끼리 구조를 합칠 수 있다. 단 값은 변동 없음\n",
    "    display(Markdown(\"__word split into characters:__ <tt>{}</tt>\".format(word)))\n",
    "    \n",
    "    pairs = get_pairs(word)\n",
    "    \n",
    "    if not pairs:\n",
    "        return orig\n",
    "    \n",
    "    iteration = 0\n",
    "    while True:\n",
    "        iteration += 1\n",
    "        display(Markdown(\"__Iteration {}:__\".format(iteration)))\n",
    "        print(\"bigrams in the word: {}\".format(pairs))\n",
    "        \n",
    "        bigram = min(pairs, key = lambda pair: bpe_codes.get(pair, float('inf')))\n",
    "        print(\"candidate for merging: {}\".format(bigram))\n",
    "        \n",
    "        if bigram not in bpe_codes:\n",
    "            display(Markdown(\"__Candidate not in BPE merges, algorithm stops.__\"))\n",
    "            break\n",
    "            \n",
    "        first, second = bigram\n",
    "        new_word = []\n",
    "        i = 0\n",
    "        while i < len(word):\n",
    "            try:\n",
    "                j = word.index(first, i)\n",
    "                new_word.extend(word[i:j])\n",
    "                i = j\n",
    "            except:\n",
    "                new_word.extend(word[i:])\n",
    "                break\n",
    "\n",
    "            if word[i] == first and i < len(word)-1 and word[i+1] == second:\n",
    "                new_word.append(first+second)\n",
    "                i += 2\n",
    "            else:\n",
    "                new_word.append(word[i])\n",
    "                i += 1\n",
    "                \n",
    "        new_word = tuple(new_word)\n",
    "        word = new_word\n",
    "        print(\"word after merging: {}\".format(word))\n",
    "        \n",
    "        if len(word) == 1:\n",
    "            break\n",
    "        else:\n",
    "            pairs = get_pairs(word)\n",
    "\n",
    "    # 특별 토큰인 </w>는 출력하지 않는다.\n",
    "    if word[-1] == '</w>':\n",
    "        word = word[:-1]\n",
    "    elif word[-1].endswith('</w>'):\n",
    "        word = word[:-1] + (word[-1].replace('</w>',''),)\n",
    "\n",
    "    return word"
   ]
  },
  {
   "cell_type": "code",
   "execution_count": 14,
   "id": "99f84903-b444-4d18-b3ac-7909b8b40bd5",
   "metadata": {},
   "outputs": [
    {
     "data": {
      "text/markdown": [
       "__word split into characters:__ <tt>('l', 'o', 'k', 'i', '</w>')</tt>"
      ],
      "text/plain": [
       "<IPython.core.display.Markdown object>"
      ]
     },
     "metadata": {},
     "output_type": "display_data"
    },
    {
     "data": {
      "text/markdown": [
       "__Iteration 1:__"
      ],
      "text/plain": [
       "<IPython.core.display.Markdown object>"
      ]
     },
     "metadata": {},
     "output_type": "display_data"
    },
    {
     "name": "stdout",
     "output_type": "stream",
     "text": [
      "bigrams in the word: {('k', 'i'), ('l', 'o'), ('i', '</w>'), ('o', 'k')}\n",
      "candidate for merging: ('l', 'o')\n",
      "word after merging: ('lo', 'k', 'i', '</w>')\n"
     ]
    },
    {
     "data": {
      "text/markdown": [
       "__Iteration 2:__"
      ],
      "text/plain": [
       "<IPython.core.display.Markdown object>"
      ]
     },
     "metadata": {},
     "output_type": "display_data"
    },
    {
     "name": "stdout",
     "output_type": "stream",
     "text": [
      "bigrams in the word: {('lo', 'k'), ('i', '</w>'), ('k', 'i')}\n",
      "candidate for merging: ('lo', 'k')\n"
     ]
    },
    {
     "data": {
      "text/markdown": [
       "__Candidate not in BPE merges, algorithm stops.__"
      ],
      "text/plain": [
       "<IPython.core.display.Markdown object>"
      ]
     },
     "metadata": {},
     "output_type": "display_data"
    },
    {
     "data": {
      "text/plain": [
       "('lo', 'k', 'i')"
      ]
     },
     "execution_count": 14,
     "metadata": {},
     "output_type": "execute_result"
    }
   ],
   "source": [
    "'''\n",
    "'loki' 입력 시 현재 서브워드 단어집합에는 'lo'가 존재하므로, 'lo'는 유지하고 'k', 'i'는 분리시킨다.\n",
    "'''\n",
    "encode(\"loki\")"
   ]
  },
  {
   "cell_type": "markdown",
   "id": "a5667095-5b6c-4086-b079-ca611283c6e9",
   "metadata": {
    "tags": []
   },
   "source": [
    "### 말뭉치 만들기(한국어 위키)"
   ]
  },
  {
   "cell_type": "code",
   "execution_count": 15,
   "id": "a28c1c26-a9bd-4da2-83c9-4670cd2e1df1",
   "metadata": {
    "collapsed": true,
    "jupyter": {
     "outputs_hidden": true
    },
    "tags": []
   },
   "outputs": [
    {
     "name": "stderr",
     "output_type": "stream",
     "text": [
      "sentencepiece_trainer.cc(177) LOG(INFO) Running command: --input=./kowiki.txt --model_prefix=kowiki --vocab_size=8007 --model_type=bpe --max_sentence_length=999999 --pad_id=0 --pad_piece=[PAD] --unk_id=1 --unk_piece=[UNK] --bos_id=2 --bos_piece=[BOS] --eos_id=3 --eos_piece=[EOS] --user_defined_symbols=[SEP],[CLS],[MASK]\n",
      "sentencepiece_trainer.cc(77) LOG(INFO) Starts training with : \n",
      "trainer_spec {\n",
      "  input: ./kowiki.txt\n",
      "  input_format: \n",
      "  model_prefix: kowiki\n",
      "  model_type: BPE\n",
      "  vocab_size: 8007\n",
      "  self_test_sample_size: 0\n",
      "  character_coverage: 0.9995\n",
      "  input_sentence_size: 0\n",
      "  shuffle_input_sentence: 1\n",
      "  seed_sentencepiece_size: 1000000\n",
      "  shrinking_factor: 0.75\n",
      "  max_sentence_length: 999999\n",
      "  num_threads: 16\n",
      "  num_sub_iterations: 2\n",
      "  max_sentencepiece_length: 16\n",
      "  split_by_unicode_script: 1\n",
      "  split_by_number: 1\n",
      "  split_by_whitespace: 1\n",
      "  split_digits: 0\n",
      "  treat_whitespace_as_suffix: 0\n",
      "  user_defined_symbols: [SEP]\n",
      "  user_defined_symbols: [CLS]\n",
      "  user_defined_symbols: [MASK]\n",
      "  required_chars: \n",
      "  byte_fallback: 0\n",
      "  vocabulary_output_piece_score: 1\n",
      "  train_extremely_large_corpus: 0\n",
      "  hard_vocab_limit: 1\n",
      "  use_all_vocab: 0\n",
      "  unk_id: 1\n",
      "  bos_id: 2\n",
      "  eos_id: 3\n",
      "  pad_id: 0\n",
      "  unk_piece: [UNK]\n",
      "  bos_piece: [BOS]\n",
      "  eos_piece: [EOS]\n",
      "  pad_piece: [PAD]\n",
      "  unk_surface:  ⁇ \n",
      "}\n",
      "normalizer_spec {\n",
      "  name: nmt_nfkc\n",
      "  add_dummy_prefix: 1\n",
      "  remove_extra_whitespaces: 1\n",
      "  escape_whitespaces: 1\n",
      "  normalization_rule_tsv: \n",
      "}\n",
      "denormalizer_spec {}\n",
      "trainer_interface.cc(319) LOG(INFO) SentenceIterator is not specified. Using MultiFileSentenceIterator.\n",
      "trainer_interface.cc(174) LOG(INFO) Loading corpus: ./kowiki.txt\n",
      "trainer_interface.cc(136) LOG(INFO) Loaded 1000000 lines\n",
      "trainer_interface.cc(136) LOG(INFO) Loaded 2000000 lines\n",
      "trainer_interface.cc(113) LOG(WARNING) Too many sentences are loaded! (2302880), which may slow down training.\n",
      "trainer_interface.cc(115) LOG(WARNING) Consider using --input_sentence_size=<size> and --shuffle_input_sentence=true.\n",
      "trainer_interface.cc(118) LOG(WARNING) They allow to randomly sample <size> sentences from the entire corpus.\n",
      "trainer_interface.cc(375) LOG(INFO) Loaded all 2302880 sentences\n",
      "trainer_interface.cc(390) LOG(INFO) Adding meta_piece: [PAD]\n",
      "trainer_interface.cc(390) LOG(INFO) Adding meta_piece: [UNK]\n",
      "trainer_interface.cc(390) LOG(INFO) Adding meta_piece: [BOS]\n",
      "trainer_interface.cc(390) LOG(INFO) Adding meta_piece: [EOS]\n",
      "trainer_interface.cc(390) LOG(INFO) Adding meta_piece: [SEP]\n",
      "trainer_interface.cc(390) LOG(INFO) Adding meta_piece: [CLS]\n",
      "trainer_interface.cc(390) LOG(INFO) Adding meta_piece: [MASK]\n",
      "trainer_interface.cc(395) LOG(INFO) Normalizing sentences...\n",
      "trainer_interface.cc(456) LOG(INFO) all chars count=269816422\n",
      "trainer_interface.cc(467) LOG(INFO) Done: 99.95% characters are covered.\n",
      "trainer_interface.cc(477) LOG(INFO) Alphabet size=4420\n",
      "trainer_interface.cc(478) LOG(INFO) Final character coverage=0.9995\n",
      "trainer_interface.cc(510) LOG(INFO) Done! preprocessed 2301792 sentences.\n",
      "trainer_interface.cc(516) LOG(INFO) Tokenizing input sentences with whitespace: 2301792\n",
      "trainer_interface.cc(526) LOG(INFO) Done! 6703771\n",
      "bpe_model_trainer.cc(167) LOG(INFO) Updating active symbols. max_freq=1683522 min_freq=415\n",
      "bpe_model_trainer.cc(258) LOG(INFO) Added: freq=543057 size=20 all=568049 active=37751 piece=▁아\n",
      "bpe_model_trainer.cc(258) LOG(INFO) Added: freq=365842 size=40 all=577451 active=47153 piece=▁유\n",
      "bpe_model_trainer.cc(258) LOG(INFO) Added: freq=280880 size=60 all=587899 active=57601 piece=▁의\n",
      "bpe_model_trainer.cc(258) LOG(INFO) Added: freq=232087 size=80 all=595745 active=65447 piece=▁성\n",
      "bpe_model_trainer.cc(258) LOG(INFO) Added: freq=182943 size=100 all=602054 active=71756 piece=▁바\n",
      "bpe_model_trainer.cc(167) LOG(INFO) Updating active symbols. max_freq=182850 min_freq=451\n",
      "bpe_model_trainer.cc(258) LOG(INFO) Added: freq=164407 size=120 all=611374 active=38939 piece=적으로\n",
      "bpe_model_trainer.cc(258) LOG(INFO) Added: freq=144905 size=140 all=618093 active=45658 piece=▁따\n",
      "bpe_model_trainer.cc(258) LOG(INFO) Added: freq=131832 size=160 all=624780 active=52345 piece=하기\n",
      "bpe_model_trainer.cc(258) LOG(INFO) Added: freq=118803 size=180 all=631262 active=58827 piece=er\n",
      "bpe_model_trainer.cc(258) LOG(INFO) Added: freq=107940 size=200 all=635356 active=62921 piece=▁추\n",
      "bpe_model_trainer.cc(167) LOG(INFO) Updating active symbols. max_freq=107778 min_freq=445\n",
      "bpe_model_trainer.cc(258) LOG(INFO) Added: freq=99146 size=220 all=642457 active=38515 piece=▁참\n",
      "bpe_model_trainer.cc(258) LOG(INFO) Added: freq=94659 size=240 all=647521 active=43579 piece=▁북\n",
      "bpe_model_trainer.cc(258) LOG(INFO) Added: freq=90049 size=260 all=655386 active=51444 piece=▁목\n",
      "bpe_model_trainer.cc(258) LOG(INFO) Added: freq=83526 size=280 all=660497 active=56555 piece=▁처\n",
      "bpe_model_trainer.cc(258) LOG(INFO) Added: freq=76265 size=300 all=665750 active=61808 piece=▁간\n",
      "bpe_model_trainer.cc(167) LOG(INFO) Updating active symbols. max_freq=76190 min_freq=434\n",
      "bpe_model_trainer.cc(258) LOG(INFO) Added: freq=72543 size=320 all=671157 active=38358 piece=▁가장\n",
      "bpe_model_trainer.cc(258) LOG(INFO) Added: freq=68212 size=340 all=675670 active=42871 piece=▁된다\n",
      "bpe_model_trainer.cc(258) LOG(INFO) Added: freq=64753 size=360 all=680100 active=47301 piece=▁광\n",
      "bpe_model_trainer.cc(258) LOG(INFO) Added: freq=60205 size=380 all=684980 active=52181 piece=▁근\n",
      "bpe_model_trainer.cc(258) LOG(INFO) Added: freq=57263 size=400 all=690631 active=57832 piece=▁첫\n",
      "bpe_model_trainer.cc(167) LOG(INFO) Updating active symbols. max_freq=57255 min_freq=423\n",
      "bpe_model_trainer.cc(258) LOG(INFO) Added: freq=54651 size=420 all=695633 active=39396 piece=▁황\n",
      "bpe_model_trainer.cc(258) LOG(INFO) Added: freq=52503 size=440 all=699652 active=43415 piece=(,\n",
      "bpe_model_trainer.cc(258) LOG(INFO) Added: freq=49675 size=460 all=705342 active=49105 piece=되었고\n",
      "bpe_model_trainer.cc(258) LOG(INFO) Added: freq=46984 size=480 all=711356 active=55119 piece=▁취\n",
      "bpe_model_trainer.cc(258) LOG(INFO) Added: freq=44748 size=500 all=717040 active=60803 piece=▁이용\n",
      "bpe_model_trainer.cc(167) LOG(INFO) Updating active symbols. max_freq=44710 min_freq=412\n",
      "bpe_model_trainer.cc(258) LOG(INFO) Added: freq=42471 size=520 all=722484 active=41077 piece=부분\n",
      "bpe_model_trainer.cc(258) LOG(INFO) Added: freq=41329 size=540 all=727011 active=45604 piece=it\n",
      "bpe_model_trainer.cc(258) LOG(INFO) Added: freq=39716 size=560 all=731464 active=50057 piece=▁앞\n",
      "bpe_model_trainer.cc(258) LOG(INFO) Added: freq=38284 size=580 all=735179 active=53772 piece=▁등을\n",
      "bpe_model_trainer.cc(258) LOG(INFO) Added: freq=37402 size=600 all=738279 active=56872 piece=났다\n",
      "bpe_model_trainer.cc(167) LOG(INFO) Updating active symbols. max_freq=37394 min_freq=402\n",
      "bpe_model_trainer.cc(258) LOG(INFO) Added: freq=36228 size=620 all=744809 active=43355 piece=le\n",
      "bpe_model_trainer.cc(258) LOG(INFO) Added: freq=35157 size=640 all=750415 active=48961 piece=re\n",
      "bpe_model_trainer.cc(258) LOG(INFO) Added: freq=33957 size=660 all=755028 active=53574 piece=▁최초\n",
      "bpe_model_trainer.cc(258) LOG(INFO) Added: freq=32979 size=680 all=760063 active=58609 piece=렸다\n",
      "bpe_model_trainer.cc(258) LOG(INFO) Added: freq=31991 size=700 all=765399 active=63945 piece=▁효\n",
      "bpe_model_trainer.cc(167) LOG(INFO) Updating active symbols. max_freq=31952 min_freq=388\n",
      "bpe_model_trainer.cc(258) LOG(INFO) Added: freq=31244 size=720 all=769156 active=41835 piece=자로\n",
      "bpe_model_trainer.cc(258) LOG(INFO) Added: freq=30608 size=740 all=773752 active=46431 piece=▁사망\n",
      "bpe_model_trainer.cc(258) LOG(INFO) Added: freq=29736 size=760 all=776185 active=48864 piece=▁있고\n",
      "bpe_model_trainer.cc(258) LOG(INFO) Added: freq=28974 size=780 all=780630 active=53309 piece=▁질\n",
      "bpe_model_trainer.cc(258) LOG(INFO) Added: freq=28347 size=800 all=785331 active=58010 piece=▁상태\n",
      "bpe_model_trainer.cc(167) LOG(INFO) Updating active symbols. max_freq=28287 min_freq=380\n",
      "bpe_model_trainer.cc(258) LOG(INFO) Added: freq=27736 size=820 all=791683 active=45494 piece=으로서\n",
      "bpe_model_trainer.cc(258) LOG(INFO) Added: freq=27239 size=840 all=795887 active=49698 piece=전을\n",
      "bpe_model_trainer.cc(258) LOG(INFO) Added: freq=26597 size=860 all=800845 active=54656 piece=am\n",
      "bpe_model_trainer.cc(258) LOG(INFO) Added: freq=25674 size=880 all=806899 active=60709 piece=▁2015\n",
      "bpe_model_trainer.cc(258) LOG(INFO) Added: freq=25137 size=900 all=810422 active=64232 piece=▁좌\n",
      "bpe_model_trainer.cc(167) LOG(INFO) Updating active symbols. max_freq=25119 min_freq=369\n",
      "bpe_model_trainer.cc(258) LOG(INFO) Added: freq=24675 size=920 all=815366 active=45224 piece=사는\n",
      "bpe_model_trainer.cc(258) LOG(INFO) Added: freq=23888 size=940 all=820390 active=50248 piece=으로써\n",
      "bpe_model_trainer.cc(258) LOG(INFO) Added: freq=23082 size=960 all=826202 active=56060 piece=사로\n",
      "bpe_model_trainer.cc(258) LOG(INFO) Added: freq=22607 size=980 all=830892 active=60750 piece=▁각각\n",
      "bpe_model_trainer.cc(258) LOG(INFO) Added: freq=22067 size=1000 all=836309 active=66167 piece=▁수상\n",
      "bpe_model_trainer.cc(167) LOG(INFO) Updating active symbols. max_freq=22047 min_freq=355\n",
      "bpe_model_trainer.cc(258) LOG(INFO) Added: freq=21689 size=1020 all=840670 active=45980 piece=▁임명\n",
      "bpe_model_trainer.cc(258) LOG(INFO) Added: freq=21238 size=1040 all=844479 active=49789 piece=▁지구\n",
      "bpe_model_trainer.cc(258) LOG(INFO) Added: freq=20880 size=1060 all=849481 active=54791 piece=▁정보\n",
      "bpe_model_trainer.cc(258) LOG(INFO) Added: freq=20489 size=1080 all=854167 active=59477 piece=▁후보\n",
      "bpe_model_trainer.cc(258) LOG(INFO) Added: freq=20068 size=1100 all=857939 active=63249 piece=▁않은\n",
      "bpe_model_trainer.cc(167) LOG(INFO) Updating active symbols. max_freq=20051 min_freq=345\n",
      "bpe_model_trainer.cc(258) LOG(INFO) Added: freq=19769 size=1120 all=861574 active=46501 piece=▁있는데\n",
      "bpe_model_trainer.cc(258) LOG(INFO) Added: freq=19325 size=1140 all=866392 active=51319 piece=▁발전\n",
      "bpe_model_trainer.cc(258) LOG(INFO) Added: freq=18887 size=1160 all=869770 active=54697 piece=▁프리\n",
      "bpe_model_trainer.cc(258) LOG(INFO) Added: freq=18509 size=1180 all=875585 active=60512 piece=▁사업\n",
      "bpe_model_trainer.cc(258) LOG(INFO) Added: freq=18151 size=1200 all=880216 active=65143 piece=▁낮\n",
      "bpe_model_trainer.cc(167) LOG(INFO) Updating active symbols. max_freq=18140 min_freq=334\n",
      "bpe_model_trainer.cc(258) LOG(INFO) Added: freq=17933 size=1220 all=884733 active=48443 piece=▁일으\n",
      "bpe_model_trainer.cc(258) LOG(INFO) Added: freq=17633 size=1240 all=889262 active=52972 piece=▁밴\n",
      "bpe_model_trainer.cc(258) LOG(INFO) Added: freq=17358 size=1260 all=892983 active=56693 piece=▁기업\n",
      "bpe_model_trainer.cc(258) LOG(INFO) Added: freq=16905 size=1280 all=898019 active=61729 piece=대가\n",
      "bpe_model_trainer.cc(258) LOG(INFO) Added: freq=16590 size=1300 all=902458 active=66168 piece=인민공\n",
      "bpe_model_trainer.cc(167) LOG(INFO) Updating active symbols. max_freq=16589 min_freq=325\n",
      "bpe_model_trainer.cc(258) LOG(INFO) Added: freq=16345 size=1320 all=906606 active=49239 piece=▁이동\n",
      "bpe_model_trainer.cc(258) LOG(INFO) Added: freq=16076 size=1340 all=910316 active=52949 piece=과는\n",
      "bpe_model_trainer.cc(258) LOG(INFO) Added: freq=15914 size=1360 all=916084 active=58717 piece=적을\n",
      "bpe_model_trainer.cc(258) LOG(INFO) Added: freq=15725 size=1380 all=920232 active=62865 piece=▁기반\n",
      "bpe_model_trainer.cc(258) LOG(INFO) Added: freq=15540 size=1400 all=923850 active=66483 piece=▁웨\n",
      "bpe_model_trainer.cc(167) LOG(INFO) Updating active symbols. max_freq=15537 min_freq=316\n",
      "bpe_model_trainer.cc(258) LOG(INFO) Added: freq=15265 size=1420 all=928609 active=50789 piece=▁푸\n",
      "bpe_model_trainer.cc(258) LOG(INFO) Added: freq=15053 size=1440 all=933468 active=55648 piece=기관\n",
      "bpe_model_trainer.cc(258) LOG(INFO) Added: freq=14929 size=1460 all=938686 active=60866 piece=▁경기에서\n",
      "bpe_model_trainer.cc(258) LOG(INFO) Added: freq=14672 size=1480 all=942913 active=65093 piece=▁가수\n",
      "bpe_model_trainer.cc(258) LOG(INFO) Added: freq=14419 size=1500 all=946093 active=68273 piece=경기\n",
      "bpe_model_trainer.cc(167) LOG(INFO) Updating active symbols. max_freq=14414 min_freq=308\n",
      "bpe_model_trainer.cc(258) LOG(INFO) Added: freq=14166 size=1520 all=949442 active=50215 piece=▁배우이다\n",
      "bpe_model_trainer.cc(258) LOG(INFO) Added: freq=13956 size=1540 all=952801 active=53574 piece=▁설명\n",
      "bpe_model_trainer.cc(258) LOG(INFO) Added: freq=13674 size=1560 all=957582 active=58355 piece=단을\n",
      "bpe_model_trainer.cc(258) LOG(INFO) Added: freq=13558 size=1580 all=960852 active=61625 piece=]]\n",
      "bpe_model_trainer.cc(258) LOG(INFO) Added: freq=13400 size=1600 all=965278 active=66051 piece=▁이름은\n",
      "bpe_model_trainer.cc(167) LOG(INFO) Updating active symbols. max_freq=13390 min_freq=301\n",
      "bpe_model_trainer.cc(258) LOG(INFO) Added: freq=13254 size=1620 all=968881 active=51867 piece=11\n",
      "bpe_model_trainer.cc(258) LOG(INFO) Added: freq=13051 size=1640 all=973401 active=56387 piece=▁윌\n",
      "bpe_model_trainer.cc(258) LOG(INFO) Added: freq=12909 size=1660 all=976431 active=59417 piece=▁최초로\n",
      "bpe_model_trainer.cc(258) LOG(INFO) Added: freq=12751 size=1680 all=979900 active=62886 piece=치가\n",
      "bpe_model_trainer.cc(258) LOG(INFO) Added: freq=12538 size=1700 all=984491 active=67476 piece=스카\n",
      "bpe_model_trainer.cc(167) LOG(INFO) Updating active symbols. max_freq=12474 min_freq=293\n",
      "bpe_model_trainer.cc(258) LOG(INFO) Added: freq=12264 size=1720 all=989941 active=54116 piece=▁시민\n",
      "bpe_model_trainer.cc(258) LOG(INFO) Added: freq=12113 size=1740 all=994069 active=58244 piece=▁흥\n",
      "bpe_model_trainer.cc(258) LOG(INFO) Added: freq=11952 size=1760 all=997981 active=62156 piece=프로\n",
      "bpe_model_trainer.cc(258) LOG(INFO) Added: freq=11868 size=1780 all=1003322 active=67497 piece=▁X\n",
      "bpe_model_trainer.cc(258) LOG(INFO) Added: freq=11742 size=1800 all=1007467 active=71642 piece=▁거주\n",
      "bpe_model_trainer.cc(167) LOG(INFO) Updating active symbols. max_freq=11737 min_freq=284\n",
      "bpe_model_trainer.cc(258) LOG(INFO) Added: freq=11666 size=1820 all=1010207 active=52974 piece=자들이\n",
      "bpe_model_trainer.cc(258) LOG(INFO) Added: freq=11515 size=1840 all=1014706 active=57473 piece=▁Y\n",
      "bpe_model_trainer.cc(258) LOG(INFO) Added: freq=11336 size=1860 all=1018942 active=61709 piece=인데\n",
      "bpe_model_trainer.cc(258) LOG(INFO) Added: freq=11144 size=1880 all=1022827 active=65594 piece=랐다\n",
      "bpe_model_trainer.cc(258) LOG(INFO) Added: freq=11048 size=1900 all=1025622 active=68389 piece=▁깊\n",
      "bpe_model_trainer.cc(167) LOG(INFO) Updating active symbols. max_freq=11035 min_freq=278\n",
      "bpe_model_trainer.cc(258) LOG(INFO) Added: freq=10952 size=1920 all=1028517 active=54127 piece=▁포르\n",
      "bpe_model_trainer.cc(258) LOG(INFO) Added: freq=10847 size=1940 all=1032476 active=58086 piece=치고\n",
      "bpe_model_trainer.cc(258) LOG(INFO) Added: freq=10764 size=1960 all=1037293 active=62903 piece=직을\n",
      "bpe_model_trainer.cc(258) LOG(INFO) Added: freq=10646 size=1980 all=1041409 active=67019 piece=▁그들은\n",
      "bpe_model_trainer.cc(258) LOG(INFO) Added: freq=10514 size=2000 all=1044609 active=70219 piece=이어\n",
      "bpe_model_trainer.cc(167) LOG(INFO) Updating active symbols. max_freq=10508 min_freq=272\n",
      "bpe_model_trainer.cc(258) LOG(INFO) Added: freq=10374 size=2020 all=1049332 active=56347 piece=법을\n",
      "bpe_model_trainer.cc(258) LOG(INFO) Added: freq=10283 size=2040 all=1053242 active=60257 piece=체는\n",
      "bpe_model_trainer.cc(258) LOG(INFO) Added: freq=10205 size=2060 all=1056070 active=63085 piece=▁오른\n",
      "bpe_model_trainer.cc(258) LOG(INFO) Added: freq=10133 size=2080 all=1059154 active=66169 piece=▁친구\n",
      "bpe_model_trainer.cc(258) LOG(INFO) Added: freq=9981 size=2100 all=1062745 active=69760 piece=▁많다\n",
      "bpe_model_trainer.cc(167) LOG(INFO) Updating active symbols. max_freq=9980 min_freq=266\n",
      "bpe_model_trainer.cc(258) LOG(INFO) Added: freq=9897 size=2120 all=1066727 active=57108 piece=▁텔레비전\n",
      "bpe_model_trainer.cc(258) LOG(INFO) Added: freq=9797 size=2140 all=1070723 active=61104 piece=기술\n",
      "bpe_model_trainer.cc(258) LOG(INFO) Added: freq=9720 size=2160 all=1075961 active=66342 piece=받았다\n",
      "bpe_model_trainer.cc(258) LOG(INFO) Added: freq=9604 size=2180 all=1079841 active=70222 piece=아가\n",
      "bpe_model_trainer.cc(258) LOG(INFO) Added: freq=9549 size=2200 all=1083480 active=73861 piece=▁일제\n",
      "bpe_model_trainer.cc(167) LOG(INFO) Updating active symbols. max_freq=9544 min_freq=260\n",
      "bpe_model_trainer.cc(258) LOG(INFO) Added: freq=9411 size=2220 all=1087507 active=58136 piece=▁들어가\n",
      "bpe_model_trainer.cc(258) LOG(INFO) Added: freq=9314 size=2240 all=1091126 active=61755 piece=정보\n",
      "bpe_model_trainer.cc(258) LOG(INFO) Added: freq=9224 size=2260 all=1094531 active=65160 piece=군과\n",
      "bpe_model_trainer.cc(258) LOG(INFO) Added: freq=9112 size=2280 all=1100003 active=70632 piece=수한\n",
      "bpe_model_trainer.cc(258) LOG(INFO) Added: freq=9030 size=2300 all=1104187 active=74816 piece=▁조각\n",
      "bpe_model_trainer.cc(167) LOG(INFO) Updating active symbols. max_freq=9022 min_freq=253\n",
      "bpe_model_trainer.cc(258) LOG(INFO) Added: freq=8990 size=2320 all=1108132 active=58911 piece=▁의하면\n",
      "bpe_model_trainer.cc(258) LOG(INFO) Added: freq=8866 size=2340 all=1111334 active=62113 piece=▁디자인\n",
      "bpe_model_trainer.cc(258) LOG(INFO) Added: freq=8756 size=2360 all=1114277 active=65056 piece=▁보다\n",
      "bpe_model_trainer.cc(258) LOG(INFO) Added: freq=8699 size=2380 all=1118873 active=69652 piece=미터\n",
      "bpe_model_trainer.cc(258) LOG(INFO) Added: freq=8605 size=2400 all=1122559 active=73338 piece=▁논란\n",
      "bpe_model_trainer.cc(167) LOG(INFO) Updating active symbols. max_freq=8603 min_freq=248\n",
      "bpe_model_trainer.cc(258) LOG(INFO) Added: freq=8534 size=2420 all=1125661 active=59169 piece=▁1950\n",
      "bpe_model_trainer.cc(258) LOG(INFO) Added: freq=8461 size=2440 all=1129316 active=62824 piece=면을\n",
      "bpe_model_trainer.cc(258) LOG(INFO) Added: freq=8394 size=2460 all=1134066 active=67574 piece=▁개통\n",
      "bpe_model_trainer.cc(258) LOG(INFO) Added: freq=8326 size=2480 all=1136966 active=70474 piece=▁체결\n",
      "bpe_model_trainer.cc(258) LOG(INFO) Added: freq=8263 size=2500 all=1139975 active=73483 piece=문화재\n",
      "bpe_model_trainer.cc(167) LOG(INFO) Updating active symbols. max_freq=8262 min_freq=243\n",
      "bpe_model_trainer.cc(258) LOG(INFO) Added: freq=8194 size=2520 all=1143280 active=60045 piece=▁못하고\n",
      "bpe_model_trainer.cc(258) LOG(INFO) Added: freq=8140 size=2540 all=1146616 active=63381 piece=▁본래\n",
      "bpe_model_trainer.cc(258) LOG(INFO) Added: freq=8092 size=2560 all=1150599 active=67364 piece=▁활용\n",
      "bpe_model_trainer.cc(258) LOG(INFO) Added: freq=8028 size=2580 all=1154804 active=71569 piece=력의\n",
      "bpe_model_trainer.cc(258) LOG(INFO) Added: freq=7953 size=2600 all=1158794 active=75559 piece=▁센터\n",
      "bpe_model_trainer.cc(167) LOG(INFO) Updating active symbols. max_freq=7947 min_freq=238\n",
      "bpe_model_trainer.cc(258) LOG(INFO) Added: freq=7891 size=2620 all=1162523 active=61544 piece=▁촬영\n",
      "bpe_model_trainer.cc(258) LOG(INFO) Added: freq=7816 size=2640 all=1165651 active=64672 piece=롭게\n",
      "bpe_model_trainer.cc(258) LOG(INFO) Added: freq=7758 size=2660 all=1169606 active=68627 piece=력으로\n",
      "bpe_model_trainer.cc(258) LOG(INFO) Added: freq=7685 size=2680 all=1172672 active=71693 piece=치의\n",
      "bpe_model_trainer.cc(258) LOG(INFO) Added: freq=7635 size=2700 all=1175518 active=74539 piece=조가\n",
      "bpe_model_trainer.cc(167) LOG(INFO) Updating active symbols. max_freq=7635 min_freq=233\n",
      "bpe_model_trainer.cc(258) LOG(INFO) Added: freq=7585 size=2720 all=1178797 active=61675 piece=▁이슬\n",
      "bpe_model_trainer.cc(258) LOG(INFO) Added: freq=7531 size=2740 all=1180894 active=63772 piece=▁주목\n",
      "bpe_model_trainer.cc(258) LOG(INFO) Added: freq=7477 size=2760 all=1182434 active=65312 piece=임스\n",
      "bpe_model_trainer.cc(258) LOG(INFO) Added: freq=7421 size=2780 all=1185415 active=68293 piece=▁갖추\n",
      "bpe_model_trainer.cc(258) LOG(INFO) Added: freq=7356 size=2800 all=1189085 active=71963 piece=▁재직\n",
      "bpe_model_trainer.cc(167) LOG(INFO) Updating active symbols. max_freq=7351 min_freq=230\n",
      "bpe_model_trainer.cc(258) LOG(INFO) Added: freq=7286 size=2820 all=1192786 active=63087 piece=ec\n",
      "bpe_model_trainer.cc(258) LOG(INFO) Added: freq=7231 size=2840 all=1197608 active=67909 piece=되었던\n",
      "bpe_model_trainer.cc(258) LOG(INFO) Added: freq=7195 size=2860 all=1202950 active=73251 piece=▁부문\n",
      "bpe_model_trainer.cc(258) LOG(INFO) Added: freq=7121 size=2880 all=1208158 active=78459 piece=상에서\n",
      "bpe_model_trainer.cc(258) LOG(INFO) Added: freq=7076 size=2900 all=1212926 active=83227 piece=▁서부\n",
      "bpe_model_trainer.cc(167) LOG(INFO) Updating active symbols. max_freq=7072 min_freq=224\n",
      "bpe_model_trainer.cc(258) LOG(INFO) Added: freq=7014 size=2920 all=1217095 active=64587 piece=에게는\n",
      "bpe_model_trainer.cc(258) LOG(INFO) Added: freq=6961 size=2940 all=1220645 active=68137 piece=▁부모\n",
      "bpe_model_trainer.cc(258) LOG(INFO) Added: freq=6918 size=2960 all=1224141 active=71633 piece=▁허용\n",
      "bpe_model_trainer.cc(258) LOG(INFO) Added: freq=6866 size=2980 all=1226333 active=73825 piece=▁인디\n",
      "bpe_model_trainer.cc(258) LOG(INFO) Added: freq=6836 size=3000 all=1229164 active=76656 piece=▁공급\n",
      "bpe_model_trainer.cc(167) LOG(INFO) Updating active symbols. max_freq=6835 min_freq=220\n",
      "bpe_model_trainer.cc(258) LOG(INFO) Added: freq=6783 size=3020 all=1233388 active=65446 piece=▁의사\n",
      "bpe_model_trainer.cc(258) LOG(INFO) Added: freq=6720 size=3040 all=1236367 active=68425 piece=▁보도\n",
      "bpe_model_trainer.cc(258) LOG(INFO) Added: freq=6684 size=3060 all=1239999 active=72057 piece=주가\n",
      "bpe_model_trainer.cc(258) LOG(INFO) Added: freq=6651 size=3080 all=1243858 active=75916 piece=▁흰\n",
      "bpe_model_trainer.cc(258) LOG(INFO) Added: freq=6601 size=3100 all=1247070 active=79128 piece=▁채널\n",
      "bpe_model_trainer.cc(167) LOG(INFO) Updating active symbols. max_freq=6596 min_freq=215\n",
      "bpe_model_trainer.cc(258) LOG(INFO) Added: freq=6536 size=3120 all=1249388 active=64547 piece=▁문서\n",
      "bpe_model_trainer.cc(258) LOG(INFO) Added: freq=6501 size=3140 all=1252467 active=67626 piece=▁헝가\n",
      "bpe_model_trainer.cc(258) LOG(INFO) Added: freq=6441 size=3160 all=1256287 active=71446 piece=▁그곳\n",
      "bpe_model_trainer.cc(258) LOG(INFO) Added: freq=6408 size=3180 all=1259536 active=74695 piece=사령\n",
      "bpe_model_trainer.cc(258) LOG(INFO) Added: freq=6360 size=3200 all=1265037 active=80196 piece=▁주장했다\n",
      "bpe_model_trainer.cc(167) LOG(INFO) Updating active symbols. max_freq=6355 min_freq=212\n",
      "bpe_model_trainer.cc(258) LOG(INFO) Added: freq=6314 size=3220 all=1268138 active=66348 piece=▁민간\n",
      "bpe_model_trainer.cc(258) LOG(INFO) Added: freq=6266 size=3240 all=1270845 active=69055 piece=받아\n",
      "bpe_model_trainer.cc(258) LOG(INFO) Added: freq=6224 size=3260 all=1275717 active=73927 piece=▁개편\n",
      "bpe_model_trainer.cc(258) LOG(INFO) Added: freq=6191 size=3280 all=1279435 active=77645 piece=류를\n",
      "bpe_model_trainer.cc(258) LOG(INFO) Added: freq=6151 size=3300 all=1282610 active=80820 piece=▁길이\n",
      "bpe_model_trainer.cc(167) LOG(INFO) Updating active symbols. max_freq=6150 min_freq=208\n",
      "bpe_model_trainer.cc(258) LOG(INFO) Added: freq=6126 size=3320 all=1285838 active=67278 piece=▁후손\n",
      "bpe_model_trainer.cc(258) LOG(INFO) Added: freq=6090 size=3340 all=1287817 active=69257 piece=▁신설\n",
      "bpe_model_trainer.cc(258) LOG(INFO) Added: freq=6043 size=3360 all=1291451 active=72891 piece=▁노력\n",
      "bpe_model_trainer.cc(258) LOG(INFO) Added: freq=6020 size=3380 all=1293582 active=75022 piece=▁철도역이다\n",
      "bpe_model_trainer.cc(258) LOG(INFO) Added: freq=5991 size=3400 all=1296249 active=77689 piece=▁1940\n",
      "bpe_model_trainer.cc(167) LOG(INFO) Updating active symbols. max_freq=5989 min_freq=205\n",
      "bpe_model_trainer.cc(258) LOG(INFO) Added: freq=5965 size=3420 all=1299274 active=67824 piece=족의\n",
      "bpe_model_trainer.cc(258) LOG(INFO) Added: freq=5916 size=3440 all=1302448 active=70998 piece=▁비난\n",
      "bpe_model_trainer.cc(258) LOG(INFO) Added: freq=5886 size=3460 all=1305171 active=73721 piece=크라이나\n",
      "bpe_model_trainer.cc(258) LOG(INFO) Added: freq=5851 size=3480 all=1308955 active=77505 piece=제에\n",
      "bpe_model_trainer.cc(258) LOG(INFO) Added: freq=5823 size=3500 all=1312550 active=81100 piece=▁원작\n",
      "bpe_model_trainer.cc(167) LOG(INFO) Updating active symbols. max_freq=5817 min_freq=201\n",
      "bpe_model_trainer.cc(258) LOG(INFO) Added: freq=5772 size=3520 all=1314694 active=67686 piece=료를\n",
      "bpe_model_trainer.cc(258) LOG(INFO) Added: freq=5731 size=3540 all=1318094 active=71086 piece=슈타\n",
      "bpe_model_trainer.cc(258) LOG(INFO) Added: freq=5689 size=3560 all=1320866 active=73858 piece=76\n",
      "bpe_model_trainer.cc(258) LOG(INFO) Added: freq=5645 size=3580 all=1324211 active=77202 piece=싱턴\n",
      "trainer_interface.cc(604) LOG(INFO) Saving model: kowiki.model\n",
      "trainer_interface.cc(615) LOG(INFO) Saving vocabs: kowiki.vocab\n"
     ]
    }
   ],
   "source": [
    "import sentencepiece as spm\n",
    "'''\n",
    "1. input : 입력 corpus\n",
    "2. prefix : 저장할 모델 이름\n",
    "3. vocab_size : vocab 개수 (기본 8000에 스페셜 토큰 7개를 더해서 8007개)\n",
    "4. max_sentence_length : 문장의 최대 길이\n",
    "5. pad_id, pad_piece : pad token id, 값\n",
    "6. unk_id, unk_piece: unknown token id, 값\n",
    "7. bos_id, bos_piece: begin of sentence token id, 값\n",
    "8. eos_id, eos_piece: end of sequence token id, 값\n",
    "9. user_defined_symbols: 사용자 정의 토큰\n",
    "\n",
    "skt kobert는 8000개의 vocab을 사용한다.\n",
    "'''\n",
    "\n",
    "corpus = \"./kowiki.txt\"\n",
    "prefix = \"kowiki\"\n",
    "vocab_size = 8000\n",
    "spm.SentencePieceTrainer.train(\n",
    "    f\"--input={corpus} --model_prefix={prefix} --vocab_size={vocab_size + 7}\" + \n",
    "    \" --model_type=bpe\" +\n",
    "    \" --max_sentence_length=999999\" + # 문장 최대 길이\n",
    "    \" --pad_id=0 --pad_piece=[PAD]\" + # pad (0)\n",
    "    \" --unk_id=1 --unk_piece=[UNK]\" + # unknown (1)\n",
    "    \" --bos_id=2 --bos_piece=[BOS]\" + # begin of sequence (2)\n",
    "    \" --eos_id=3 --eos_piece=[EOS]\" + # end of sequence (3)\n",
    "    \" --user_defined_symbols=[SEP],[CLS],[MASK]\") # 사용자 정의 토큰"
   ]
  },
  {
   "cell_type": "code",
   "execution_count": 16,
   "id": "1bfa31ba-0847-420a-93e5-b426b61beda8",
   "metadata": {},
   "outputs": [
    {
     "name": "stdout",
     "output_type": "stream",
     "text": [
      "겨울이 되어서 날씨가 무척 추워요.\n",
      "['▁겨울', '이', '▁되어', '서', '▁날', '씨', '가', '▁무', '척', '▁추', '워', '요', '.']\n",
      "[3091, 3588, 601, 3602, 683, 4014, 3599, 108, 4193, 206, 3958, 3760, 3590]\n",
      "\n",
      "이번 성탄절은 화이트 크리스마스가 될까요?\n",
      "['▁이번', '▁성', '탄', '절', '은', '▁화', '이트', '▁크리스', '마', '스가', '▁될', '까', '요', '?']\n",
      "[3224, 86, 3967, 3923, 3604, 264, 669, 1970, 3664, 780, 1450, 3794, 3760, 4245]\n",
      "\n",
      "겨울에 감기 조심하시고 행복한 연말 되세요.\n",
      "['▁겨울', '에', '▁감', '기', '▁조', '심', '하', '시', '고', '▁행', '복', '한', '▁연', '말', '▁되', '세', '요', '.']\n",
      "[3091, 3591, 212, 3605, 53, 3832, 3596, 3613, 3600, 234, 3871, 3603, 61, 3823, 445, 3682, 3760, 3590]\n",
      "\n"
     ]
    }
   ],
   "source": [
    "# Vocab 테스트\n",
    "import sentencepiece as spm\n",
    "\n",
    "vocab_file = \"./kowiki/kowiki.model\"\n",
    "vocab = spm.SentencePieceProcessor()\n",
    "vocab.load(vocab_file)\n",
    "\n",
    "lines = [\n",
    "  \"겨울이 되어서 날씨가 무척 추워요.\",\n",
    "  \"이번 성탄절은 화이트 크리스마스가 될까요?\",\n",
    "  \"겨울에 감기 조심하시고 행복한 연말 되세요.\"\n",
    "]\n",
    "for line in lines:\n",
    "    pieces = vocab.encode_as_pieces(line)\n",
    "    ids = vocab.encode_as_ids(line)\n",
    "    print(line)\n",
    "    print(pieces)\n",
    "    print(ids)\n",
    "    print()"
   ]
  },
  {
   "cell_type": "markdown",
   "id": "d7b4bf7a-5d85-4e77-81d1-9035263098a3",
   "metadata": {
    "tags": []
   },
   "source": [
    "## Vocab 활용한 텍스트 변환"
   ]
  },
  {
   "cell_type": "code",
   "execution_count": 43,
   "id": "fc152155-122a-4b71-b690-dd241738b4ad",
   "metadata": {},
   "outputs": [
    {
     "name": "stdout",
     "output_type": "stream",
     "text": [
      "['▁겨울', '은', '▁추', '워', '요', '.']\n",
      "['▁감', '기', '▁조', '심', '하', '세', '요', '.']\n",
      "torch.Size([2, 8])\n",
      "tensor([[3091, 3604,  206, 3958, 3760, 3590,    0,    0],\n",
      "        [ 212, 3605,   53, 3832, 3596, 3682, 3760, 3590]])\n"
     ]
    }
   ],
   "source": [
    "import torch\n",
    "import torch.nn as nn\n",
    "import sentencepiece as spm\n",
    "\n",
    "# vocab loading\n",
    "vocab_file = \"./kowiki/kowiki.model\"\n",
    "vocab = spm.SentencePieceProcessor()\n",
    "vocab.load(vocab_file)\n",
    "\n",
    "# 입력 texts\n",
    "lines = [\n",
    "  \"겨울은 추워요.\",\n",
    "  \"감기 조심하세요.\"\n",
    "]\n",
    "\n",
    "# text를 tensor로 변환\n",
    "inputs = []\n",
    "for line in lines:\n",
    "    pieces = vocab.encode_as_pieces(line)\n",
    "    ids = vocab.encode_as_ids(line)\n",
    "    inputs.append(torch.tensor(ids))\n",
    "    print(pieces)\n",
    "\n",
    "# 입력 길이가 다르므로 입력 최대 길이에 맟춰 padding(0)을 추가 해 줌\n",
    "inputs = torch.nn.utils.rnn.pad_sequence(inputs, batch_first=True, padding_value=0)\n",
    "# shape\n",
    "print(inputs.size())\n",
    "# 값\n",
    "print(inputs)"
   ]
  },
  {
   "cell_type": "markdown",
   "id": "64fcc048-4934-48ad-a517-825030df12e4",
   "metadata": {
    "tags": []
   },
   "source": [
    "## Embedding\n",
    "- Transformer의 Embedding은 두 가지 Embedding을 합쳐서 사용"
   ]
  },
  {
   "cell_type": "code",
   "execution_count": 22,
   "id": "b9f8fbe5-10f7-4591-8443-7c564488ca15",
   "metadata": {},
   "outputs": [
    {
     "name": "stdout",
     "output_type": "stream",
     "text": [
      "torch.Size([2, 8, 128])\n"
     ]
    }
   ],
   "source": [
    "## Input Embedding\n",
    "'''\n",
    "입력 토큰을 vector 형태로 변환\n",
    "inputs에 대한 embedding 값 input_embs를 계산\n",
    "'''\n",
    "\n",
    "n_vocab = len(vocab) # vocab count, 8007(8000 + 7)\n",
    "d_hidn = 128 # hidden size\n",
    "nn_emb = torch.nn.Embedding(n_vocab, d_hidn) # embedding 객체\n",
    "\n",
    "input_embs = nn_emb(inputs) # input embedding\n",
    "print(input_embs.size())"
   ]
  },
  {
   "cell_type": "code",
   "execution_count": 23,
   "id": "aa483f50-6481-4c93-809d-5e5f45c15153",
   "metadata": {},
   "outputs": [],
   "source": [
    "## Position Embedding\n",
    "'''\n",
    "1. 각 position별로 angle 값을 구한다.\n",
    "2. 구해진 angle 중 짝수 index의 값에 대한 sin 값을 구한다.\n",
    "3. 구해진 angle 중 홀수 index의 값에 대한 cos 값을 구한다.\n",
    "'''\n",
    "\"\"\" sinusoid position embedding \"\"\"\n",
    "import numpy as np\n",
    "\n",
    "def get_sinusoid_encoding_table(n_seq, d_hidn):\n",
    "    def cal_angle(position, i_hidn):\n",
    "        return position / np.power(10000, 2 * (i_hidn // 2) / d_hidn)  # np.power(a,b) : 값 a의 b제곱\n",
    "    \n",
    "    def get_posi_angle_vec(position):\n",
    "        return [cal_angle(position, i_hidn) for i_hidn in range(d_hidn)]\n",
    "    \n",
    "    sinusoid_table = np.array([get_posi_angle_vec(i_seq) for i_seq in range(n_seq)])\n",
    "    sinusoid_table[:, 0::2] = np.sin(sinusoid_table[:, 0::2])\n",
    "    sinusoid_table[:, 1::2] = np.cos(sinusoid_table[:, 1::2])\n",
    "    \n",
    "    return sinusoid_table    "
   ]
  },
  {
   "cell_type": "code",
   "execution_count": 24,
   "id": "58bd9879-a48c-4d46-81cc-be2c9952a519",
   "metadata": {},
   "outputs": [
    {
     "name": "stdout",
     "output_type": "stream",
     "text": [
      "(64, 128)\n"
     ]
    },
    {
     "data": {
      "image/png": "[encoded data removed]",
      "text/plain": [
       "<Figure size 432x288 with 2 Axes>"
      ]
     },
     "metadata": {
      "needs_background": "light"
     },
     "output_type": "display_data"
    }
   ],
   "source": [
    "# position encoding 값 구하기\n",
    "import matplotlib.pyplot as plt\n",
    "\n",
    "n_seq = 64\n",
    "pos_encoding = get_sinusoid_encoding_table(n_seq, d_hidn)\n",
    "\n",
    "print(pos_encoding.shape)\n",
    "plt.pcolormesh(pos_encoding, cmap='RdBu')\n",
    "plt.xlabel('Depth')\n",
    "plt.xlim((0, d_hidn))\n",
    "plt.ylabel('Position')\n",
    "plt.colorbar()\n",
    "plt.show()\n",
    "# 각 position 별로 다른 값을 가짐을 확인할 수 있다."
   ]
  },
  {
   "cell_type": "code",
   "execution_count": 27,
   "id": "26b25674-f13d-4aa6-bab6-e4b1d02a4dea",
   "metadata": {},
   "outputs": [
    {
     "name": "stdout",
     "output_type": "stream",
     "text": [
      "tensor([[3091, 3604,  206, 3958, 3760, 3590,    0,    0],\n",
      "        [ 212, 3605,   53, 3832, 3596, 3682, 3760, 3590]])\n",
      "tensor([[1, 2, 3, 4, 5, 6, 0, 0],\n",
      "        [1, 2, 3, 4, 5, 6, 7, 8]])\n",
      "torch.Size([2, 8, 128])\n"
     ]
    }
   ],
   "source": [
    "'''\n",
    "1. 위에서 구한 position encoding 값을 이용하여 position embedding을 생성, 학습하지 않으므로 freeze=True\n",
    "2. 입력 inputs와 동일한 크기를 갖는 position을 계산\n",
    "3. input 값 중 pad(0) 값을 찾음\n",
    "4. position 값 중 pad 부분은 0으로 변환\n",
    "5. position 값에 해당하는 embedding 값을 계산\n",
    "'''\n",
    "\n",
    "pos_encoding = torch.FloatTensor(pos_encoding)\n",
    "nn_pos = torch.nn.Embedding.from_pretrained(pos_encoding, freeze=True)\n",
    "\n",
    "positions = torch.arange(inputs.size(1), device=inputs.device, dtype=inputs.dtype).expand(inputs.size(0), inputs.size(1)).contiguous() + 1\n",
    "pos_mask = inputs.eq(0)\n",
    "\n",
    "positions.masked_fill_(pos_mask, 0)\n",
    "pos_embs = nn_pos(positions) # position embedding\n",
    "\n",
    "print(inputs)\n",
    "print(positions)\n",
    "print(pos_embs.size())"
   ]
  },
  {
   "cell_type": "code",
   "execution_count": 29,
   "id": "636b20c4-cf39-478f-a835-8d9468c40a73",
   "metadata": {},
   "outputs": [
    {
     "data": {
      "text/plain": [
       "torch.Size([2, 8, 128])"
      ]
     },
     "execution_count": 29,
     "metadata": {},
     "output_type": "execute_result"
    }
   ],
   "source": [
    "'''\n",
    "위의 결과로 보아 inputs의 pad(0) 위치에 positions 값도 pad(0)으로 변경되어 있다.\n",
    "pos_embs(2,8,128)은 input_embs(2,8,128)와 shape이 동일하므로 이 둘을 더하면 Transformer의 input이 된다.\n",
    "'''\n",
    "input_sums = input_embs + pos_embs\n",
    "input_sums.shape"
   ]
  },
  {
   "cell_type": "markdown",
   "id": "cf22958a-8e17-406a-b8b2-78868ffa3a67",
   "metadata": {},
   "source": [
    "## Scaled Dot Product Attention"
   ]
  },
  {
   "cell_type": "code",
   "execution_count": 30,
   "id": "59387bfa-d214-4337-8c39-cc0613304e57",
   "metadata": {},
   "outputs": [
    {
     "name": "stdout",
     "output_type": "stream",
     "text": [
      "torch.Size([2, 8, 8])\n",
      "tensor([[False, False, False, False, False, False,  True,  True],\n",
      "        [False, False, False, False, False, False,  True,  True],\n",
      "        [False, False, False, False, False, False,  True,  True],\n",
      "        [False, False, False, False, False, False,  True,  True],\n",
      "        [False, False, False, False, False, False,  True,  True],\n",
      "        [False, False, False, False, False, False,  True,  True],\n",
      "        [False, False, False, False, False, False,  True,  True],\n",
      "        [False, False, False, False, False, False,  True,  True]])\n"
     ]
    }
   ],
   "source": [
    "'''\n",
    "입력값은 Q, K, V 그리고 attention mask로 구성되어 있다.\n",
    "이때 K, V는 같은 값이어야 하며 Q,K,V가 모두 동일한 경우는 self-attention 이라 한다.\n",
    "'''\n",
    "Q = input_sums\n",
    "K = input_sums\n",
    "V = input_sums\n",
    "attn_mask = inputs.eq(0).unsqueeze(1).expand(Q.size(0), Q.size(1), K.size(1))\n",
    "\n",
    "print(attn_mask.size())\n",
    "print(attn_mask[0])  # attn_mask 값은 pad(0) 부분만 True 이다."
   ]
  },
  {
   "cell_type": "code",
   "execution_count": 31,
   "id": "ee2784aa-36a4-4831-85df-3f589e56f9f8",
   "metadata": {},
   "outputs": [
    {
     "name": "stdout",
     "output_type": "stream",
     "text": [
      "torch.Size([2, 8, 8])\n",
      "tensor([[166.5111,  71.2445,  70.1711,  47.2882,  53.4295,  51.3275,  50.3548,\n",
      "          50.3548],\n",
      "        [ 71.2445, 231.4675,  76.7528,  47.2865,  84.0712,  63.8822,  58.1213,\n",
      "          58.1213],\n",
      "        [ 70.1711,  76.7528, 188.0140,  47.0536,  68.8331,  69.9415,  47.1775,\n",
      "          47.1775],\n",
      "        [ 47.2882,  47.2865,  47.0536, 146.8650,  40.9054,  37.1201,  35.9969,\n",
      "          35.9969],\n",
      "        [ 53.4295,  84.0712,  68.8331,  40.9054, 222.3812,  80.0809,  67.9657,\n",
      "          67.9657],\n",
      "        [ 51.3275,  63.8822,  69.9415,  37.1201,  80.0809, 175.4418,  40.3228,\n",
      "          40.3228],\n",
      "        [ 50.3548,  58.1213,  47.1775,  35.9969,  67.9657,  40.3228, 192.9808,\n",
      "         192.9808],\n",
      "        [ 50.3548,  58.1213,  47.1775,  35.9969,  67.9657,  40.3228, 192.9808,\n",
      "         192.9808]], grad_fn=<SelectBackward>)\n"
     ]
    }
   ],
   "source": [
    "# MatMul Q, K-Transpose(치환)\n",
    "scores = torch.matmul(Q, K.transpose(-1, -2))\n",
    "\n",
    "print(scores.size())\n",
    "print(scores[0])  # 각 단어 상호간 가중치를 표현"
   ]
  },
  {
   "cell_type": "code",
   "execution_count": 32,
   "id": "a03f5b10-caa7-4456-9f02-5d6da85706c2",
   "metadata": {},
   "outputs": [
    {
     "name": "stdout",
     "output_type": "stream",
     "text": [
      "torch.Size([2, 8, 8])\n",
      "tensor([[20.8139,  8.9056,  8.7714,  5.9110,  6.6787,  6.4159,  6.2944,  6.2944],\n",
      "        [ 8.9056, 28.9334,  9.5941,  5.9108, 10.5089,  7.9853,  7.2652,  7.2652],\n",
      "        [ 8.7714,  9.5941, 23.5018,  5.8817,  8.6041,  8.7427,  5.8972,  5.8972],\n",
      "        [ 5.9110,  5.9108,  5.8817, 18.3581,  5.1132,  4.6400,  4.4996,  4.4996],\n",
      "        [ 6.6787, 10.5089,  8.6041,  5.1132, 27.7976, 10.0101,  8.4957,  8.4957],\n",
      "        [ 6.4159,  7.9853,  8.7427,  4.6400, 10.0101, 21.9302,  5.0403,  5.0403],\n",
      "        [ 6.2944,  7.2652,  5.8972,  4.4996,  8.4957,  5.0403, 24.1226, 24.1226],\n",
      "        [ 6.2944,  7.2652,  5.8972,  4.4996,  8.4957,  5.0403, 24.1226, 24.1226]],\n",
      "       grad_fn=<SelectBackward>)\n"
     ]
    }
   ],
   "source": [
    "# 가중치 편차를 줄이기 위한 scaling 진행\n",
    "d_head = 64\n",
    "scores = scores.mul_(1 / d_head ** 0.5)\n",
    "\n",
    "print(scores.size())\n",
    "print(scores[0])"
   ]
  },
  {
   "cell_type": "code",
   "execution_count": 33,
   "id": "e82f5281-3a4f-49bb-b699-129f7c8b852b",
   "metadata": {},
   "outputs": [
    {
     "name": "stdout",
     "output_type": "stream",
     "text": [
      "torch.Size([2, 8, 8])\n",
      "tensor([[ 2.0814e+01,  8.9056e+00,  8.7714e+00,  5.9110e+00,  6.6787e+00,\n",
      "          6.4159e+00, -1.0000e+09, -1.0000e+09],\n",
      "        [ 8.9056e+00,  2.8933e+01,  9.5941e+00,  5.9108e+00,  1.0509e+01,\n",
      "          7.9853e+00, -1.0000e+09, -1.0000e+09],\n",
      "        [ 8.7714e+00,  9.5941e+00,  2.3502e+01,  5.8817e+00,  8.6041e+00,\n",
      "          8.7427e+00, -1.0000e+09, -1.0000e+09],\n",
      "        [ 5.9110e+00,  5.9108e+00,  5.8817e+00,  1.8358e+01,  5.1132e+00,\n",
      "          4.6400e+00, -1.0000e+09, -1.0000e+09],\n",
      "        [ 6.6787e+00,  1.0509e+01,  8.6041e+00,  5.1132e+00,  2.7798e+01,\n",
      "          1.0010e+01, -1.0000e+09, -1.0000e+09],\n",
      "        [ 6.4159e+00,  7.9853e+00,  8.7427e+00,  4.6400e+00,  1.0010e+01,\n",
      "          2.1930e+01, -1.0000e+09, -1.0000e+09],\n",
      "        [ 6.2944e+00,  7.2652e+00,  5.8972e+00,  4.4996e+00,  8.4957e+00,\n",
      "          5.0403e+00, -1.0000e+09, -1.0000e+09],\n",
      "        [ 6.2944e+00,  7.2652e+00,  5.8972e+00,  4.4996e+00,  8.4957e+00,\n",
      "          5.0403e+00, -1.0000e+09, -1.0000e+09]], grad_fn=<SelectBackward>)\n"
     ]
    }
   ],
   "source": [
    "# mask를 한 부분이 -1e9로 매우 작은 값으로 변경(Masking)\n",
    "scores.masked_fill_(attn_mask, -1e9)\n",
    "\n",
    "print(scores.size())\n",
    "print(scores[0])"
   ]
  },
  {
   "cell_type": "code",
   "execution_count": 34,
   "id": "b5d3ad11-821b-44a1-be12-bfae74aa86ef",
   "metadata": {},
   "outputs": [
    {
     "name": "stdout",
     "output_type": "stream",
     "text": [
      "torch.Size([2, 8, 8])\n",
      "tensor([[9.9999e-01, 6.7340e-06, 5.8884e-06, 3.3710e-07, 7.2636e-07, 5.5852e-07,\n",
      "         0.0000e+00, 0.0000e+00],\n",
      "        [2.0045e-09, 1.0000e+00, 3.9905e-09, 1.0032e-10, 9.9614e-09, 7.9859e-10,\n",
      "         0.0000e+00, 0.0000e+00],\n",
      "        [4.0057e-07, 9.1197e-07, 1.0000e+00, 2.2269e-08, 3.3888e-07, 3.8924e-07,\n",
      "         0.0000e+00, 0.0000e+00],\n",
      "        [3.9290e-06, 3.9282e-06, 3.8155e-06, 9.9999e-01, 1.7692e-06, 1.1023e-06,\n",
      "         0.0000e+00, 0.0000e+00],\n",
      "        [6.7321e-10, 3.1016e-08, 4.6170e-09, 1.4069e-10, 1.0000e+00, 1.8835e-08,\n",
      "         0.0000e+00, 0.0000e+00],\n",
      "        [1.8290e-07, 8.7858e-07, 1.8738e-06, 3.0971e-08, 6.6552e-06, 9.9999e-01,\n",
      "         0.0000e+00, 0.0000e+00],\n",
      "        [7.2458e-02, 1.9130e-01, 4.8708e-02, 1.2040e-02, 6.5482e-01, 2.0677e-02,\n",
      "         0.0000e+00, 0.0000e+00],\n",
      "        [7.2458e-02, 1.9130e-01, 4.8708e-02, 1.2040e-02, 6.5482e-01, 2.0677e-02,\n",
      "         0.0000e+00, 0.0000e+00]], grad_fn=<SelectBackward>)\n"
     ]
    }
   ],
   "source": [
    "# Softmax를 진행하므로써 가중치 값들이 확률값으로 변환됐고 masking 부분이 모두 0이 되었다.\n",
    "attn_prob = torch.nn.Softmax(dim=-1)(scores)\n",
    "\n",
    "print(attn_prob.size())\n",
    "print(attn_prob[0])"
   ]
  },
  {
   "cell_type": "code",
   "execution_count": 41,
   "id": "ab37e39e-d19c-4da4-8145-b2db9839a7ec",
   "metadata": {},
   "outputs": [
    {
     "name": "stdout",
     "output_type": "stream",
     "text": [
      "torch.Size([2, 8, 128])\n"
     ]
    }
   ],
   "source": [
    "# MatMul attn_prob, V -> Q와 동일한 shape 값이 구해지며, 이는 V 값들이 attn_prob의 가중치를 이용해서 더해진 값이다.\n",
    "context = torch.matmul(attn_prob, V)\n",
    "print(context.size())"
   ]
  },
  {
   "cell_type": "code",
   "execution_count": 2,
   "id": "b296e9e7-3ee3-439e-a0a5-32d5140c44ee",
   "metadata": {},
   "outputs": [],
   "source": [
    "# 위의 코드들은 하나의 Class로 구성\n",
    "from torch import nn\n",
    "\n",
    "\"\"\" scale dot product attention \"\"\"\n",
    "class ScaledDotProductAttention(nn.Module):\n",
    "    def __init__(self, d_head):\n",
    "        super().__init__()\n",
    "        self.scale = 1 / (d_head ** 0.5)\n",
    "        \n",
    "    def forward(self, Q, K, V, attn_mask):\n",
    "        scores = torch.matmul(Q, K.transpose(-1, -2)).mul_(self.scale)\n",
    "        scores.masked_fill_(attn_mask, -1e9)\n",
    "        \n",
    "        attn_prob = nn.Softmax(dim=-1)(scores)\n",
    "        \n",
    "        context = torch.matmul(attn_prob, V)\n",
    "        \n",
    "        return context, attn_prob"
   ]
  },
  {
   "cell_type": "code",
   "execution_count": null,
   "id": "4e834a1d-56c5-4a0d-a352-26046e0ffa91",
   "metadata": {},
   "outputs": [],
   "source": []
  }
 ],
 "metadata": {
  "kernelspec": {
   "display_name": "Python 3 (ipykernel)",
   "language": "python",
   "name": "python3"
  },
  "language_info": {
   "codemirror_mode": {
    "name": "ipython",
    "version": 3
   },
   "file_extension": ".py",
   "mimetype": "text/x-python",
   "name": "python",
   "nbconvert_exporter": "python",
   "pygments_lexer": "ipython3",
   "version": "3.8.3"
  }
 },
 "nbformat": 4,
 "nbformat_minor": 5
}
